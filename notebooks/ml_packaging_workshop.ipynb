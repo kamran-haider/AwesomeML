{
 "cells": [
  {
   "cell_type": "code",
   "execution_count": 125,
   "metadata": {
    "slideshow": {
     "slide_type": "skip"
    }
   },
   "outputs": [
    {
     "name": "stdout",
     "output_type": "stream",
     "text": [
      "The watermark extension is already loaded. To reload it, use:\n",
      "  %reload_ext watermark\n",
      "Kamran Haider \n",
      "last updated: 2018-07-23 \n",
      "\n",
      "CPython 3.6.5\n",
      "IPython 6.4.0\n",
      "\n",
      "numpy 1.14.5\n",
      "pandas 0.23.3\n",
      "matplotlib 2.2.2\n",
      "scipy 1.1.0\n",
      "sklearn 0.19.2\n"
     ]
    }
   ],
   "source": [
    "%load_ext watermark\n",
    "%watermark -a 'Kamran Haider' -u -d -v -p numpy,pandas,matplotlib,scipy,sklearn\n",
    "import numpy as np\n",
    "from sklearn.base import BaseEstimator\n",
    "from sklearn.model_selection import train_test_split\n",
    "from sklearn import datasets"
   ]
  },
  {
   "cell_type": "markdown",
   "metadata": {
    "slideshow": {
     "slide_type": "slide"
    }
   },
   "source": [
    "# Packaging Python Machine Learning Code with Conda\n",
    "\n",
    "Going from a classifier idea to a package that others can use:\n",
    "1. Code it up\n",
    "2. Organize directory \n",
    "3. Set up version control (Git)\n",
    "4. Set up unit testing (pytest)\n",
    "5. Configure installation (setuptools)\n",
    "6. Build package (conda-build)\n",
    "7. Create a distribution channel (Anaconda)\n",
    "8. Upload to Anaconda"
   ]
  },
  {
   "cell_type": "markdown",
   "metadata": {
    "slideshow": {
     "slide_type": "slide"
    }
   },
   "source": [
    "# Fun with notebooks\n",
    "Here is how you render them as slides:\n",
    "```bash\n",
    "jupyter nbconvert ml_packaging_workshop.ipynb --to slides --post serve\n",
    "```\n",
    "Be sure to toggle slide show by going to `View->Cell Toolbar->Slideshow` and then assign a type to each cell.\n",
    "\n",
    "If you are bored with how your notebooks look, try `jupyter-themes` notebook.\n"
   ]
  },
  {
   "cell_type": "markdown",
   "metadata": {
    "slideshow": {
     "slide_type": "slide"
    }
   },
   "source": [
    "## A prelude to conda enviornments\n",
    "* Better to set them up systematically (put all specifications in a file)\n",
    "* Create a file `enviornment.yml`, this is what it should look like:\n",
    "```yaml\n",
    "name: workshop\n",
    "dependencies:\n",
    "  - python=3.6\n",
    "  - pytest\n",
    "  - ...\n",
    "```\n",
    "* Create the enviornment:\n",
    "```bash\n",
    "conda env create -f enviornment.yml\n",
    "source activate workshop\n",
    "```\n",
    "* If youmissed a specification, edit your `enviornment.yml` and update:\n",
    "```bash\n",
    "source deactivate workshop\n",
    "conda env update -f enviornment.yml\n",
    "source activate workshop\n",
    "```\n"
   ]
  },
  {
   "cell_type": "markdown",
   "metadata": {
    "slideshow": {
     "slide_type": "slide"
    }
   },
   "source": [
    "# Step 1: Coding up a Majority Class Classifier"
   ]
  },
  {
   "cell_type": "code",
   "execution_count": 126,
   "metadata": {
    "slideshow": {
     "slide_type": "slide"
    }
   },
   "outputs": [],
   "source": [
    "class MajorityClassClassifier(BaseEstimator):\n",
    "    \"\"\"\n",
    "    A majority class classifier\n",
    "    \"\"\"\n",
    "    def __init__(self):\n",
    "        self.classes = None\n",
    "        self.majority_class = None\n",
    "        \n",
    "    def fit(self, X, y):\n",
    "        classes, counts = np.unique(y, return_counts=True)\n",
    "        majority_class_index = np.argmax(counts)\n",
    "        majority_class = classes[majority_class_index]\n",
    "        self.classes = classes\n",
    "        self.majority_class = majority_class\n",
    "    \n",
    "    def predict(self, X):\n",
    "        predictions = np.zeros((len(X), 1), dtype=np.uint8)\n",
    "        predictions += self.majority_class\n",
    "        return predictions"
   ]
  },
  {
   "cell_type": "code",
   "execution_count": 127,
   "metadata": {
    "slideshow": {
     "slide_type": "slide"
    }
   },
   "outputs": [
    {
     "name": "stdout",
     "output_type": "stream",
     "text": [
      "[0 1 2] 0\n"
     ]
    }
   ],
   "source": [
    "# Let's try this one Iris dataset\n",
    "iris = datasets.load_iris()\n",
    "X, y = iris.data, iris.target\n",
    "X_train, X_test, y_train, y_test = train_test_split(X, y, test_size=0.5, random_state=1)\n",
    "# Build model\n",
    "model = MajorityClassClassifier()\n",
    "model.fit(X_train, y_train)\n",
    "print(model.classes, model.majority_class)\n",
    "# Test if it works correctly\n",
    "y_pred = model.predict(X_test)\n",
    "np.testing.assert_array_equal(np.zeros(y_pred.shape, dtype=np.uint8), y_pred)"
   ]
  },
  {
   "cell_type": "markdown",
   "metadata": {
    "slideshow": {
     "slide_type": "slide"
    }
   },
   "source": [
    "# Step 2: Set up Package Directory Structure\n",
    "- `PackageName`\n",
    "    * `package_name`\n",
    "    * `devtools`\n",
    "        - `conda-recipe`\n",
    "        - `travis-ci`\n",
    "    * `docs`\n",
    "    * `scripts`\n",
    "    * `tests`\n",
    "    * `scratch`\n",
    "    * `notebooks`\n",
    "    "
   ]
  },
  {
   "cell_type": "markdown",
   "metadata": {
    "slideshow": {
     "slide_type": "slide"
    }
   },
   "source": [
    "```bash\n",
    "mkdir AwesomeML\n",
    "mkdir AwesomeML/awesome_ml\n",
    "mkdir -p AwesomeML/devtools/conda-recipe\n",
    "mkdir AwesomeML/devtools/travis-ci\n",
    "mkdir AwesomeML/docs\n",
    "mkdir AwesomeML/tests\n",
    "mkdir AwesomeML/scripts\n",
    "mkdir AwesomeML/scratch\n",
    "mkdir AwesomeML/notebooks\n",
    "touch AwesomeML/README.md\n",
    "```"
   ]
  },
  {
   "cell_type": "markdown",
   "metadata": {
    "slideshow": {
     "slide_type": "slide"
    }
   },
   "source": [
    "# Set up Package Directory Structure (contd.)\n",
    "\n",
    "* Manually setting up a directory structure can be tedious but it's good for staters.\n",
    "* Once you really get into building packages, try:\n",
    "[`CookieCutter`](https://cookiecutter.readthedocs.io/en/latest/)\n",
    "* It create a project directory following a standard template."
   ]
  },
  {
   "cell_type": "markdown",
   "metadata": {
    "slideshow": {
     "slide_type": "slide"
    }
   },
   "source": [
    "# Step 3: Set up Version Control\n",
    "* Initialize version control and make first commit\n",
    "* Go to you Github and create a new repository, using the same name\n",
    "```bash\n",
    "cd AwesomeML/\n",
    "git init\n",
    "git add .\n",
    "git commit -m \"Initial commit\"\n",
    "git remote add origin git@github.com:kamran-haider/AwesomeML.git\n",
    "git push origin master\n",
    "```\n",
    "\n",
    "_Git Quiz: If we commit an empty folder and push it to a repo, it won't show up, what trick can we use to make it appear?_"
   ]
  },
  {
   "cell_type": "markdown",
   "metadata": {
    "slideshow": {
     "slide_type": "slide"
    }
   },
   "source": [
    "# Step 4: Set up Testing\n",
    "* As soon as you start building up your code, start writing unit tests.\n",
    "* Unit testing will feel tedious to begin with but it is your great friend.  \n",
    "* Want to learn more about Unit Testing, follow this [PyCon tutorial](https://pyvideo.org/pycon-us-2016/michael-tom-wing-christie-wilson-introduction-to-unit-testing-in-python-with-pytest-pycon-2016.html)\n",
    "* Strategy:\n",
    "    - We will write a test script and put it in `AwesomeML/tests`.\n",
    "    - We will follow some conventions, the test script's name will beging with `test_`\n",
    "```bash\n",
    "touch AwesomeML/tests/test_awesome_ml.py\n",
    "```\n",
    "    - Each unit tests in this script will also be named like this i.e., `test_`"
   ]
  },
  {
   "cell_type": "markdown",
   "metadata": {
    "slideshow": {
     "slide_type": "slide"
    }
   },
   "source": [
    "```python\n",
    "def test_fit_classes():\n",
    "    \"\"\"\n",
    "    Tests if the MajorityClassClassifier model fits properly\n",
    "    and generates classes from training data.\n",
    "    \"\"\"\n",
    "    model, _ = load_iris_mdoel()\n",
    "    np.testing.assert_array_equal(model.classes, np.array([0, 1, 2]))\n",
    "\n",
    "def test_fit_majority_class():\n",
    "    \"\"\"\n",
    "    Tests if the MajorityClassClassifier model fits properly\n",
    "    and generates majority class from training data.\n",
    "    \"\"\"\n",
    "    model, _ = load_iris_mdoel()\n",
    "    np.testing.assert_array_equal(model.majority_class, 2)\n",
    "\n",
    "def test_predict():\n",
    "    \"\"\"\n",
    "    Tests if the MajorityClassClassifier model correctly predicts\n",
    "    majority class for Iris dataset.\n",
    "    \"\"\"\n",
    "    _, test_predictions = load_iris_mdoel()\n",
    "    reference_predictions = np.zeros(test_predictions.shape, dtype=np.uint8) + 2\n",
    "    np.testing.assert_array_equal(test_predictions, reference_predictions)\n",
    "```"
   ]
  },
  {
   "cell_type": "markdown",
   "metadata": {
    "slideshow": {
     "slide_type": "slide"
    }
   },
   "source": [
    "# Step 4: Set up Testing (contd.)\n",
    "\n",
    "A couple of things to note:\n",
    "* See how each tests checks for just one functionality\n",
    "* Return value of each test is `True/False`\n",
    "* `numpy.testing` module this allows for array comparisons \n",
    "How to run tests as you develope code:\n",
    "* In package root directory (in `AwesomeML/`), run the following command:\n",
    "```bash\n",
    "python -m pytest tests/\n",
    "```\n",
    "`pytest` automatically picks up all file starting from `test_` and within those file it executes all functions starting from `test_` "
   ]
  },
  {
   "cell_type": "markdown",
   "metadata": {
    "slideshow": {
     "slide_type": "slide"
    }
   },
   "source": [
    "# Step 5: Configuring Installation\n",
    "`setup.py`\n",
    "```python\n",
    "import setuptools\n",
    "\n",
    "with open(\"README.md\", \"r\") as fh:\n",
    "    long_description = fh.read()\n",
    "\n",
    "setuptools.setup(\n",
    "    name=\"awesome_ml\",\n",
    "    version=\"0.0.1\",\n",
    "    author=\"Kamran Haider\",\n",
    "    author_email=\"kamranhaider.mb@gmail.com\",\n",
    "    description=\"A Python package to demonstrate packaging\",\n",
    "    long_description=long_description,\n",
    "    long_description_content_type=\"text/markdown\",\n",
    "    url=\"https://github.com/kamran-haider/AwesomeML\",\n",
    "    install_requires=[\n",
    "        'pytest', 'scikit-learn', 'pandas', 'numpy'],\n",
    "    packages=setuptools.find_packages()\n",
    ")\n",
    "```\n"
   ]
  },
  {
   "cell_type": "markdown",
   "metadata": {
    "slideshow": {
     "slide_type": "slide"
    }
   },
   "source": [
    "# Step 5: Configuring Installation (contd.)\n",
    "\n",
    "At this point, you are already done!\n",
    "\n",
    "If someone asks for your code, just tell them to do the following:\n",
    "```bash\n",
    "git clone your_package.git\n",
    "cd your_package\n",
    "python setup.py install\n",
    "```\n",
    "Issues:\n",
    "* What if you make a change to your package and add new functionality?\n",
    "* What if you were notified of a bug and you want to release a fixed version?\n",
    "\n",
    "That's where distribution and releases come in!"
   ]
  },
  {
   "cell_type": "markdown",
   "metadata": {
    "slideshow": {
     "slide_type": "slide"
    }
   },
   "source": [
    "# Step 6: Conda package building\n",
    "* `conda` is an enviornment manager that comes with Anaconda (Anaconda is a python distribution)\n",
    "* Within `conda` there are tools for python package building, installing, updating removing etc.\n",
    "* `conda-build` allows building packages that can be managed through conda\n",
    "* To confuse you guys even more, there is `pip` package management system too.\n",
    "* To get some clarification on these terms, read this [artcile](https://jakevdp.github.io/blog/2016/08/25/conda-myths-and-misconceptions/)!"
   ]
  },
  {
   "cell_type": "markdown",
   "metadata": {
    "slideshow": {
     "slide_type": "slide"
    }
   },
   "source": [
    "# Step 6: Conda package building (contd.)\n",
    "\n",
    "* To build a conda package, you need to build a conda recipe\n",
    "* Go to `devtools/conda-recipe` and create the following three files:\n",
    "```bash\n",
    "cd AwesomeML/devtools/conda-recipe\n",
    "touch meta.yaml\n",
    "touch build.sh\n",
    "touch build.bat\n",
    "```"
   ]
  },
  {
   "cell_type": "markdown",
   "metadata": {
    "slideshow": {
     "slide_type": "slide"
    }
   },
   "source": [
    "`meta.yaml`\n",
    "```yaml\n",
    "package:\n",
    "  name: awesome_ml\n",
    "  version: 0.0.1\n",
    "\n",
    "\n",
    "source:\n",
    "  path: ../../\n",
    "\n",
    "requirements:\n",
    "\n",
    "  run:\n",
    "    - python\n",
    "    - numpy\n",
    "    - pandas\n",
    "    - sklearn\n",
    "\n",
    "test:\n",
    "  commands:\n",
    "    - python -m pytest tests\n",
    "  imports:\n",
    "    - awesome_ml\n",
    "\n",
    "about:\n",
    "  home: https://github.com/kamran_haider/AwesomeML\n",
    "  license: MIT\n",
    "  summary: Python package to demonstrate packaging\n",
    "```"
   ]
  },
  {
   "cell_type": "markdown",
   "metadata": {
    "slideshow": {
     "slide_type": "slide"
    }
   },
   "source": [
    "`build.sh`\n",
    "```bash\n",
    "#!/bin/bash\n",
    "$PYTHON setup.py clean\n",
    "$PYTHON setup.py install\n",
    "```\n",
    "`build.bat`\n",
    "```MS-DOS\n",
    "python setup.py install\n",
    "::if errorlevel 1 exit 1\n",
    "```"
   ]
  },
  {
   "cell_type": "markdown",
   "metadata": {
    "slideshow": {
     "slide_type": "slide"
    }
   },
   "source": [
    "# Step 6: Conda package building (contd.)\n",
    "\n",
    "* All these files reside in `devtools/conda-recipe`\n",
    "* You rarely need to edit these after creating them\n",
    "* `conda-build` uses configurations from `meta.yaml` and build scripts to create the package.\n",
    "* Here is the command to build the package (run from package root directory) :\n",
    "```bash\n",
    "cd AwesomeML\n",
    "conda build devtools/conda-recipe\n",
    "```"
   ]
  },
  {
   "cell_type": "markdown",
   "metadata": {
    "slideshow": {
     "slide_type": "slide"
    }
   },
   "source": [
    "# Step 7: Create a distribution channel\n",
    "* Go to Anaconda.org and sign up for an account.\n",
    "* An account on anaconda.org can serve as a distribution channel. \n",
    "* This would be the home of your packages.\n",
    "* Once uploaded, users would be able to install your packages by:\n",
    "```bash\n",
    "conda install -c https://anaconda.org/your_channel your_package\n",
    "```\n",
    "* There are community-led channels such as `conda-forge` that provide more standardized ways of distributing packages."
   ]
  },
  {
   "cell_type": "markdown",
   "metadata": {
    "slideshow": {
     "slide_type": "slide"
    }
   },
   "source": [
    "# Step 8: Upload package to your channel\n",
    "* The build process produces a lot of output, among this deluge of information, there is a very useful piece:\n",
    "\n",
    "\n",
    "```bash\n",
    "# Automatic uploading is disabled\n",
    "# If you want to upload package(s) to anaconda.org later, type:\n",
    "anaconda upload /home/kamran/miniconda3/conda-bld/linux-64/awesome_ml-0.0.1-py36_0.tar.bz2\n",
    "```\n",
    "\n",
    "Once successfully built, login to your anaconda channel through terminal\n",
    "\n",
    "```bash\n",
    "anaconda login\n",
    "```\n",
    "* Enter username and password. Once logged in use the command above to upload.\n",
    "* Go to your channel on anaconda.org and take a look, you now have a package that others can install using a single command."
   ]
  },
  {
   "cell_type": "markdown",
   "metadata": {
    "slideshow": {
     "slide_type": "slide"
    }
   },
   "source": [
    "# What more can we do?\n",
    "* In our current pipeline, each time we make a change to our package, we have to re-do the  build process manually. \n",
    "* This is where continuous integration (CI) comes in. Continuous Integration is a one-stop shop for building, testing and deploying packages, patches, new releases.\n",
    "\n",
    "* The idea is simple: \n",
    "    - You and your team maintain a Github repo of your package, one or more people are administrators.\n",
    "    - The team does development in dev branches and you reserve master for releases.\n",
    "    - Once you are ready for release, you merge all changes into master.\n",
    "    - As your make a commit to master, CI takes charge.\n",
    "    - On a cloud machine, it builds your package with enumeration of specs (mutiple python versions, multiple OS's), runs testing, only if tests pass, it deploys your package to a anaconda."
   ]
  },
  {
   "cell_type": "markdown",
   "metadata": {
    "slideshow": {
     "slide_type": "slide"
    }
   },
   "source": [
    "# What more can we do?\n",
    "* What if not all of your users are python programmers?\n",
    "* What is importing `awesome_ml` is not the only intended usage of your code?\n",
    "* That's where command-line utilities come in!\n",
    "* We can create python scripts that act like black-boxes and let your users run those tools directly from the command-line.\n",
    "* These scripts go into `scripts` directory and we can use a mechanism called `entry_points` to ship command-line tools along with our package."
   ]
  },
  {
   "cell_type": "markdown",
   "metadata": {
    "slideshow": {
     "slide_type": "slide"
    }
   },
   "source": [
    "# Additional Resources\n",
    "\n",
    "http://the-hitchhikers-guide-to-packaging.readthedocs.io/en/latest/index.html\n",
    "\n",
    "https://conda.io/docs/user-guide/tutorials/build-pkgs.html\n",
    "\n",
    "https://packaging.python.org/\n",
    "\n",
    "https://pythonhosted.org/an_example_pypi_project/setuptools.html"
   ]
  }
 ],
 "metadata": {
  "celltoolbar": "Slideshow",
  "kernelspec": {
   "display_name": "Python 3",
   "language": "python",
   "name": "python3"
  },
  "language_info": {
   "codemirror_mode": {
    "name": "ipython",
    "version": 3
   },
   "file_extension": ".py",
   "mimetype": "text/x-python",
   "name": "python",
   "nbconvert_exporter": "python",
   "pygments_lexer": "ipython3",
   "version": "3.6.5"
  }
 },
 "nbformat": 4,
 "nbformat_minor": 2
}
